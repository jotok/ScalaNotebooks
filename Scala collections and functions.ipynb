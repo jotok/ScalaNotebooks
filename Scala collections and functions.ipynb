{
 "cells": [
  {
   "cell_type": "markdown",
   "metadata": {},
   "source": [
    "# Welcome\n",
    "\n",
    "This is a [jupyter](http://jupyter.org/) notebook. You can execute the code cells by hilighting them and entering CTRL-Enter. Some of the cells in this notebook refer to values defined in previous cells. If you see an unexpected error, make sure that you have executed all the preceding cells.\n",
    "\n",
    "You can edit the code cells by double-clicking on them. By editing the cells and executing your changes, you can experiment with the language as we go along."
   ]
  },
  {
   "cell_type": "markdown",
   "metadata": {},
   "source": [
    "# Getting started\n",
    "\n",
    "Declaring and assigning simple types to variables. Note that it's not necessary to wrap everything in a class with a `main` function in order to get started with Scala. Unlike Java, everything in Scala is an object (primitive types in Java behave like objects in Scala)."
   ]
  },
  {
   "cell_type": "markdown",
   "metadata": {},
   "source": [
    "Scala has types for all the standard primitives. Type declarations come after the variable name."
   ]
  },
  {
   "cell_type": "code",
   "execution_count": null,
   "metadata": {
    "collapsed": false
   },
   "outputs": [],
   "source": [
    "val x: Long = 100000000\n",
    "val y: Double = 123.456\n",
    "val message: String = \"Hi from Scala\"\n",
    "val isScala: Boolean = true"
   ]
  },
  {
   "cell_type": "markdown",
   "metadata": {},
   "source": [
    "In many situations, types are optional and can be inferred."
   ]
  },
  {
   "cell_type": "code",
   "execution_count": null,
   "metadata": {
    "collapsed": false
   },
   "outputs": [],
   "source": [
    "val z = -10\n",
    "val response = \"Hello\""
   ]
  },
  {
   "cell_type": "markdown",
   "metadata": {},
   "source": [
    "There are two different keywords that can be used to declare a variable: `val` and `var`.\n",
    "* Use `val` to declare a final, immutable value.\n",
    "* Use `var` to declare a mutable variable."
   ]
  },
  {
   "cell_type": "code",
   "execution_count": null,
   "metadata": {
    "collapsed": false
   },
   "outputs": [],
   "source": [
    "val pi = 3.14\n",
    "var favoriteColor = \"blue\"\n",
    "\n",
    "favoriteColor = \"red\""
   ]
  },
  {
   "cell_type": "markdown",
   "metadata": {},
   "source": [
    "Trying to assign a new value to a `val` causes an exception."
   ]
  },
  {
   "cell_type": "code",
   "execution_count": null,
   "metadata": {
    "collapsed": false
   },
   "outputs": [],
   "source": [
    "pi = 3"
   ]
  },
  {
   "cell_type": "markdown",
   "metadata": {},
   "source": [
    "Everything is an object: we can call methods on \"primitive\" types."
   ]
  },
  {
   "cell_type": "code",
   "execution_count": null,
   "metadata": {
    "collapsed": false
   },
   "outputs": [],
   "source": [
    "pi.getClass()\n",
    "(pi.floor, pi.ceil)"
   ]
  },
  {
   "cell_type": "markdown",
   "metadata": {},
   "source": [
    "# Collections\n",
    "\n",
    "In this section we will go over common operations with arrays, linked lists, maps, and sets. In addition to the standard data structures, Scala provides immutable implementations of collections. With an immutable collection, any operation that would mutate a traditional collection (like adding a new element to a list) will instead return a new copy of the collection. When performance is an issue, it only takes an import to replace immutable collections with mutable versions, but Scala has opotimized the performance of its immutable collections and they are often performant enough by themselves.\n",
    "\n",
    "See: [http://docs.scala-lang.org/overviews/collections/introduction](http://docs.scala-lang.org/overviews/collections/introduction)"
   ]
  },
  {
   "cell_type": "markdown",
   "metadata": {},
   "source": [
    "Collections can constructed by calling the class name with a vararg parameter."
   ]
  },
  {
   "cell_type": "code",
   "execution_count": null,
   "metadata": {
    "collapsed": false
   },
   "outputs": [],
   "source": [
    "val cityArray = Array(\"Albaquerque\", \"Boston\", \"Charleston\")   // Scala equivalent of a Java array\n",
    "val stateList = List(\"Arkansas\", \"California\", \"North Dakota\") // An immutable linked list\n",
    "val countrySet = Set(\"India\", \"China\", \"Canada\", \"China\")      // An immutable set object"
   ]
  },
  {
   "cell_type": "markdown",
   "metadata": {},
   "source": [
    "There is also a literal syntax for constructing an immutable Map object"
   ]
  },
  {
   "cell_type": "code",
   "execution_count": null,
   "metadata": {
    "collapsed": false
   },
   "outputs": [],
   "source": [
    "val cityMap = Map(\"Des Moines\" -> \"Iowa\", \"Everett\" -> \"Washington\", \"Flagstaff\" -> \"Arizona\")"
   ]
  },
  {
   "cell_type": "markdown",
   "metadata": {},
   "source": [
    "Because [square brackets] are used by Scala to denote type parameters, we use (parentheses) to access members of collections."
   ]
  },
  {
   "cell_type": "code",
   "execution_count": null,
   "metadata": {
    "collapsed": false
   },
   "outputs": [],
   "source": [
    "println(\"The second city in the array is \" + cityArray(1))\n",
    "\n",
    "var key = \"Flagstaff\"\n",
    "println(\"The city \" + key + \" is in the state \" + cityMap(key))"
   ]
  },
  {
   "cell_type": "markdown",
   "metadata": {},
   "source": [
    "Parentheses are also used to test for set membership"
   ]
  },
  {
   "cell_type": "code",
   "execution_count": null,
   "metadata": {
    "collapsed": false
   },
   "outputs": [],
   "source": [
    "key = \"China\"\n",
    "println(key + \" is a country? \" + countrySet(key))\n",
    "key = \"Neptune\"\n",
    "println(key + \" is a country? \" + countrySet(key))"
   ]
  },
  {
   "cell_type": "markdown",
   "metadata": {},
   "source": [
    "Array values are mutable: assigning a new value will overwrite the old value."
   ]
  },
  {
   "cell_type": "code",
   "execution_count": null,
   "metadata": {
    "collapsed": false
   },
   "outputs": [],
   "source": [
    "cityArray(2) = \"Chattanooga\"\n",
    "cityArray"
   ]
  },
  {
   "cell_type": "markdown",
   "metadata": {},
   "source": [
    "The special operators `:+`, `::`, and `++` can be used to append, prepend, and concatenate lists. It is a quirk of Scala that user-defined operators are sometimes used in place of readable method names.\n",
    "\n",
    "Note that these operators do not actually change the value of `stateList`."
   ]
  },
  {
   "cell_type": "code",
   "execution_count": null,
   "metadata": {
    "collapsed": false
   },
   "outputs": [],
   "source": [
    "stateList :+ \"South Dakota\"                                // append \"South Dakota\" to the end of the list\n",
    "\"Alaska\" :: stateList                                      // prepend \"Alaska\" to the front of the list\n",
    "stateList ++ List(\"Minnesota\", \"Mississippi\", \"Missouri\")  // concatenate with another list"
   ]
  },
  {
   "cell_type": "markdown",
   "metadata": {},
   "source": [
    "The `+` operator is overloaded to add new key-value pairs to maps and new elements to sets."
   ]
  },
  {
   "cell_type": "code",
   "execution_count": null,
   "metadata": {
    "collapsed": false
   },
   "outputs": [],
   "source": [
    "cityMap + (\"Grand Rapids\" -> \"Michigan\")\n",
    "countrySet + (\"Canada\", \"Mexico\")"
   ]
  },
  {
   "cell_type": "markdown",
   "metadata": {},
   "source": [
    "# Mapping, Filtering, and Reducing\n",
    "\n",
    "Because functional programming emphasizes writing functions that return values (as opposed to methods which mutate the internal state of the object they are called on), it's common to write a chain of function calls where each function operates on the output from the previous function. To facilitate this approach, there is a whole suite of higher-order functions that take a function as a parameter and apply it to the elements of a collection. The most well-known of these are `map`, `filter`, and `reduce`.\n",
    "\n",
    "Let's define a couple lists to use in the following examples."
   ]
  },
  {
   "cell_type": "code",
   "execution_count": null,
   "metadata": {
    "collapsed": false
   },
   "outputs": [],
   "source": [
    "val numberList = List(1, 1, 2, 3, 5, 8, 13, 21, 34)\n",
    "val stringList = List(\"anteater\", \"bison\", \"camel\", \"deer\", \"egret\")"
   ]
  },
  {
   "cell_type": "markdown",
   "metadata": {},
   "source": [
    "`map` applies a function to each element in a collection. The notation `x => f(x)` is the Scala shorthand for defining an anonymous function."
   ]
  },
  {
   "cell_type": "code",
   "execution_count": null,
   "metadata": {
    "collapsed": false
   },
   "outputs": [],
   "source": [
    "numberList.map(x => x * x)\n",
    "stringList.map(s => s.toUpperCase())"
   ]
  },
  {
   "cell_type": "markdown",
   "metadata": {},
   "source": [
    "By calling `map` on a Map object, you apply a function to each of the key-value pairs stored in the Map. The function argument of `map` should take a Tuple argument. In the following snippet, the special method `_1` is defined by Scala to get the first element of a tuple, and `_2` gets the second element of the tuple.\n",
    "\n",
    "If the function returns a pair, then the values will be taken to define a new Map object. If the function returns a single value, then `map` returns an Iterable instead."
   ]
  },
  {
   "cell_type": "code",
   "execution_count": null,
   "metadata": {
    "collapsed": false
   },
   "outputs": [],
   "source": [
    "cityMap.map(pair => (pair._1.substring(0, 3), pair._2.toUpperCase())) // returns key-value pairs\n",
    "cityMap.map(pair => pair._1 + \", \" + pair._2)                         // returns string"
   ]
  },
  {
   "cell_type": "markdown",
   "metadata": {},
   "source": [
    "Of course, you can also map over the keys and values separately."
   ]
  },
  {
   "cell_type": "code",
   "execution_count": null,
   "metadata": {
    "collapsed": false
   },
   "outputs": [],
   "source": [
    "cityMap.keys.map(k => k.substring(0, 4))\n",
    "cityMap.values.map(v => v.toUpperCase())"
   ]
  },
  {
   "cell_type": "markdown",
   "metadata": {},
   "source": [
    "`filter` takes a predicate function and returns only those values from the collection for which the predicate is true."
   ]
  },
  {
   "cell_type": "code",
   "execution_count": null,
   "metadata": {
    "collapsed": false
   },
   "outputs": [],
   "source": [
    "numberList.filter(x => x % 2 == 0)\n",
    "stringList.filter(s => s.length() == 5)"
   ]
  },
  {
   "cell_type": "markdown",
   "metadata": {},
   "source": [
    "Another frequently used operation in functional programming is called \"fold\". This higher-order function takes an initial value and a two-argument function and it calls the function recursively on the values in the collection. In the following cell, the call to `foldLeft` computes the sum of the elements in `numberList`. It is equivalent to writing:\n",
    "\n",
    "    (... (((0 + 1) + 1) + 2) ... + 21) + 34"
   ]
  },
  {
   "cell_type": "code",
   "execution_count": null,
   "metadata": {
    "collapsed": false
   },
   "outputs": [],
   "source": [
    "numberList.foldLeft(0)((x, y) => x + y)"
   ]
  },
  {
   "cell_type": "markdown",
   "metadata": {},
   "source": [
    "We can use a similar call to compute the product of elements in `foldLeft`. Note that to compute the product we need to use `1` as the initial value."
   ]
  },
  {
   "cell_type": "code",
   "execution_count": null,
   "metadata": {
    "collapsed": false
   },
   "outputs": [],
   "source": [
    "numberList.foldLeft(1)((x, y) => x * y)"
   ]
  },
  {
   "cell_type": "markdown",
   "metadata": {},
   "source": [
    "As another example, I will define a function that takes two string parameters and returns the string with the longer length. If we use this function in a fold, then we can find the longest string in the collection. Note that when we assign an anonymous function to a variable we have to specify the types of the arguments, because they can't be inferred from context."
   ]
  },
  {
   "cell_type": "code",
   "execution_count": null,
   "metadata": {
    "collapsed": false
   },
   "outputs": [],
   "source": [
    "val longer = (s1: String, s2: String) => if (s1.length() >= s2.length()) s1 else s2\n",
    "stringList.foldLeft(\"\")(longer)"
   ]
  },
  {
   "cell_type": "markdown",
   "metadata": {},
   "source": [
    "The above call is equivalent to writing:\n",
    "\n",
    "    longer(longer(longer(longer(longer(\"\", \"anteater\"), \"bison\"), \"camel\"), \"deer\"), \"egret\")\n",
    "    \n",
    "The result of a fold doesn't have to be a simple value. We could use fold to add the elements of `stringList` to a Map where the list elements are the keys and their corresponding lengths the values. The initial value that we pass to `foldLeft` will be an empty map. Because Scala can't infer the type of an empty collection, we specify the type explicitly in the constructor."
   ]
  },
  {
   "cell_type": "code",
   "execution_count": null,
   "metadata": {
    "collapsed": false
   },
   "outputs": [],
   "source": [
    "// It's customary to name the first argument to a fold function `acc` for accumulator\n",
    "val putStringLength = (acc: Map[String, Int], s: String) => acc + (s -> s.length())\n",
    "\n",
    "stringList.foldLeft(Map[String, Int]())(putStringLength)"
   ]
  },
  {
   "cell_type": "markdown",
   "metadata": {},
   "source": [
    "One way to think about fold is that it embodies the logic of a tail-recursive algorithm.\n",
    "\n",
    "Notice that in the first two examples where we computed the sum and the product, the initial value was not really necessary. We would get the same result if we took the first element in the collection as the initial value. Conveniently, Scala defines a method `reduce` that works the same as `foldLeft` except that it doesn't require you to specify an initial value. In functional programming, \"fold\" and \"reduce\" are sometimes used interchangeably."
   ]
  },
  {
   "cell_type": "code",
   "execution_count": null,
   "metadata": {
    "collapsed": false
   },
   "outputs": [],
   "source": [
    "numberList.reduce((x, y) => x + y) // sum\n",
    "numberList.reduce((x, y) => x * y) // product"
   ]
  },
  {
   "cell_type": "markdown",
   "metadata": {},
   "source": [
    "Scala will complain if you try to call `reduce` on an empty list, because there is no initial value to return."
   ]
  },
  {
   "cell_type": "code",
   "execution_count": null,
   "metadata": {
    "collapsed": false
   },
   "outputs": [],
   "source": [
    "List[Int]().reduce((x, y) => x + y)"
   ]
  },
  {
   "cell_type": "markdown",
   "metadata": {},
   "source": [
    "Two more operations that are useful when operating on collections are `zip` and `unzip`. When called on a collection, `zip` takes a second collection as an argument and returns a new list whose values are tuples created by pairing the values in the two collections. The name `zip` is supposed to make us think of zippers on clothing."
   ]
  },
  {
   "cell_type": "code",
   "execution_count": null,
   "metadata": {
    "collapsed": false
   },
   "outputs": [],
   "source": [
    "numberList.zip(stringList)"
   ]
  },
  {
   "cell_type": "markdown",
   "metadata": {},
   "source": [
    "Note that the result has the same length as the shorter list, `stringList`, and that the remaining values in `numberList` were dropped.\n",
    "\n",
    "Naturally, `unzip` performs the opposite operation: given a collection of pairs, return a pair of lists. The first list will contain all the first elements in the tuples, and the second list will contain all the second elements."
   ]
  },
  {
   "cell_type": "code",
   "execution_count": null,
   "metadata": {
    "collapsed": false
   },
   "outputs": [],
   "source": [
    "val temperatures = List((\"Monday\", 18), (\"Tuesdsay\", 26), (\"Wednesday\", 30), \n",
    "                        (\"Thursday\", 23), (\"Friday\", 17))\n",
    "\n",
    "temperatures.unzip"
   ]
  },
  {
   "cell_type": "markdown",
   "metadata": {},
   "source": [
    "This only scratches the surface of the Scala collections library and the documentation page linked at the beginning of this section covers a lot more. Here are some parting examples that are hopefully self-explanatory."
   ]
  },
  {
   "cell_type": "code",
   "execution_count": null,
   "metadata": {
    "collapsed": false
   },
   "outputs": [],
   "source": [
    "stringList.head                       // get the first element\n",
    "stringList.tail                       // get everything but the first element\n",
    "stringList.find(s => s.length() == 5) // get the first element that matches the predicate\n",
    "stringList.take(3)                    // take the first 3 elements\n",
    "stringList.drop(2)                    // drop the first 2 elements\n",
    "numberList.partition(x => x % 2 == 0) // split the collection into two lists using a predicate\n",
    "numberList.groupBy(x => x % 10)       // group values by the function result"
   ]
  },
  {
   "cell_type": "markdown",
   "metadata": {},
   "source": [
    "# Functions\n",
    "\n",
    "In this section we will cover the syntax for defining a function in Scala. Unlike Java, Scala supports top-level functions that are not members of a class."
   ]
  },
  {
   "cell_type": "code",
   "execution_count": null,
   "metadata": {
    "collapsed": false
   },
   "outputs": [],
   "source": [
    "def repeatString(s: String, times: Int): String = {\n",
    "    val builder = new StringBuilder()\n",
    "    for (i <- 1 to times) {\n",
    "        builder ++= s\n",
    "    }\n",
    "    builder.toString\n",
    "}\n",
    "\n",
    "repeatString(\"hi\", 5)\n",
    "repeatString(\"hello\", 3)"
   ]
  },
  {
   "cell_type": "markdown",
   "metadata": {},
   "source": [
    "Some remarks:\n",
    "* The keyword to start a function definition is `def`.\n",
    "* The return type of the function follows the argument list. If you leave this out, Scala will infer the return type.\n",
    "* There should be an equals sign `=` before the function body.\n",
    "* Scala automatically returns the last value evaluated in the function body, and there is no need to write `return` explicitly unless you want to exit the function early.\n",
    "* We will come back to the `for` statement in another section.\n",
    "\n",
    "There is a special type, `Unit`, which is used as the return type of what we would think of as `void` functions in Java. `Unit` is a singleton and its only purpose is to indicate that a function does not return a meaningful result."
   ]
  },
  {
   "cell_type": "code",
   "execution_count": null,
   "metadata": {
    "collapsed": false
   },
   "outputs": [],
   "source": [
    "def greet(name: String): Unit = {\n",
    "    println(\"Hi \" + name)\n",
    "}\n",
    "\n",
    "greet(\"Mom\")\n",
    "greet(\"George\")"
   ]
  },
  {
   "cell_type": "markdown",
   "metadata": {},
   "source": [
    "Scala supports defining functions with multiple argument lists. We saw this above when we were learning about `foldLeft`. We wrote expressions like `foldLeft(\"\")(longer)`. Multiple argument lists can be used to group arguments logically and you can use them to define functions that take multiple vararg parameters. In the following example, the type declaration `T*` defines a vararg parameter of type `T`."
   ]
  },
  {
   "cell_type": "code",
   "execution_count": null,
   "metadata": {
    "collapsed": false
   },
   "outputs": [],
   "source": [
    "def allPairs(strings: String*)(numbers: Int*) = { // letting Scala infer the return type\n",
    "    strings.flatMap(s => numbers.map(n => (s, n)))\n",
    "}\n",
    "\n",
    "allPairs(\"a\", \"b\")(1, 2, 3)"
   ]
  },
  {
   "cell_type": "markdown",
   "metadata": {},
   "source": [
    "# Syntactical sugar for functions\n",
    "\n",
    "Because Scala aims to support functional programming and creating domain-specific languages, there is a lot of syntactical sugar around function definition and application. Choosing to use these features is a matter of taste, but you will definitely see these forms in Scala source code and examples.\n",
    "\n",
    "Up until now, I have consistently used the explicit `=>` syntax to define functions that are passed into `map` and `reduce` calls. However, if the function being passed as an argument takes an appropriate number of arguments (one argument for `map` functions, two arguments for `reduce` functions), then Scala will infer the correct way to call the function."
   ]
  },
  {
   "cell_type": "code",
   "execution_count": null,
   "metadata": {
    "collapsed": false
   },
   "outputs": [],
   "source": [
    "def increment(n: Int) = n + 1 // single-statement functions do not require {braces}\n",
    "def shorter(s1: String, s2:String) = if (s1.length() <= s2.length) s1 else s2\n",
    "\n",
    "numberList.map(increment)     // equivalent to numberList.map(n => increment(n))\n",
    "stringList.reduce(shorter)    // equivalent to stringList.reduce((s1, s2) => shorter(s1, s2))"
   ]
  },
  {
   "cell_type": "markdown",
   "metadata": {},
   "source": [
    "This behavior works nicely with multiple argument lists. In the following example I define a function `mod(n: Int)(x: Int)`. The expression `mod(10)` binds the first argument only, which makes it a function of a single argument that can be passed to `map`."
   ]
  },
  {
   "cell_type": "code",
   "execution_count": null,
   "metadata": {
    "collapsed": false
   },
   "outputs": [],
   "source": [
    "def mod(n: Int)(x: Int) = x % n\n",
    "\n",
    "numberList.map(mod(10))"
   ]
  },
  {
   "cell_type": "markdown",
   "metadata": {},
   "source": [
    "When defining anonymous functions, Scala provides the special variable `_` which you can use instead of defining your own named varible using the `=>` syntax. Writing `f(_)` is equivalent to writing `x => f(x)`."
   ]
  },
  {
   "cell_type": "code",
   "execution_count": null,
   "metadata": {
    "collapsed": false
   },
   "outputs": [],
   "source": [
    "numberList.map(_ / 10.0)   // equivalent to numberList.map(x => x / 10.0)\n",
    "stringList.map(_.length()) // equivalent to stringList.map(s => s.length())"
   ]
  },
  {
   "cell_type": "markdown",
   "metadata": {},
   "source": [
    "Scala will even let you use `_` to define a two argument function to use in `reduce`. In this case, the first appearence of `_` will bind to the first argument and the second appearance will bind to the second argument."
   ]
  },
  {
   "cell_type": "code",
   "execution_count": null,
   "metadata": {
    "collapsed": false
   },
   "outputs": [],
   "source": [
    "numberList.reduce(_ + _) // computes the sum of values in numberList"
   ]
  },
  {
   "cell_type": "markdown",
   "metadata": {},
   "source": [
    "Note that as a result of this behavior (binding `_` to different variables), you can't use this syntax to refer to a single argument more than once. For example, this attempt to square the numbers in `numberList` will fail."
   ]
  },
  {
   "cell_type": "code",
   "execution_count": null,
   "metadata": {
    "collapsed": false
   },
   "outputs": [],
   "source": [
    "numberList.map(_ * _) // error: you have to write numberList.map(x => x * x) instead"
   ]
  },
  {
   "cell_type": "markdown",
   "metadata": {},
   "source": [
    "Another way that Scala is flexible is that \"dot\" notation for calling methods and parentheses around arguments are both optional."
   ]
  },
  {
   "cell_type": "code",
   "execution_count": null,
   "metadata": {
    "collapsed": false
   },
   "outputs": [],
   "source": [
    "\"hello\" substring 1 // equivalent to \"hello\".substring(1)"
   ]
  },
  {
   "cell_type": "markdown",
   "metadata": {},
   "source": [
    "This syntactical feature is used in Scala to define operators that look like mathematical notation and to write domain-specific languages that look more like written language. To illustrate this point, note that the standard arithmetic operators are actually defined as methods in Scala:"
   ]
  },
  {
   "cell_type": "code",
   "execution_count": null,
   "metadata": {
    "collapsed": false
   },
   "outputs": [],
   "source": [
    "1.+(2) // call + as a method on 1 with the argument 2\n",
    "3.*(4) // call * as a method on 3 with the argument 4"
   ]
  },
  {
   "cell_type": "markdown",
   "metadata": {},
   "source": [
    "Scala places few restrictions on what counts as a valid method name, which means that you are free to define a method named `|=?` and then call it like an operator: `val baz = foo |=? bar`. Defining custom operators like this can make for a very concise API, but there is ongoing debate in the Scala world about whether it's worth the cost in terms of readability. Still, you *will* see custom operators in Scala code (for example, the `%` in sbt files) so it's good to know that there's nothing truly mysterious going on.\n",
    "\n",
    "Even though the community seems conservative about unreadable operators these days, the other part of this notation -- dropping dots and parenthises -- seems pretty common in the code examples that I've seen so you'll want to be familiar with it."
   ]
  },
  {
   "cell_type": "code",
   "execution_count": null,
   "metadata": {
    "collapsed": false
   },
   "outputs": [],
   "source": [
    "numberList map increment"
   ]
  }
 ],
 "metadata": {
  "kernelspec": {
   "display_name": "Scala 2.11",
   "language": "scala211",
   "name": "scala211"
  },
  "language_info": {
   "codemirror_mode": "text/x-scala",
   "file_extension": ".scala",
   "mimetype": "text/x-scala",
   "name": "scala211",
   "pygments_lexer": "scala",
   "version": "2.11.6"
  }
 },
 "nbformat": 4,
 "nbformat_minor": 0
}
