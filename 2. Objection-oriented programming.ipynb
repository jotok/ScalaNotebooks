{
 "cells": [
  {
   "cell_type": "markdown",
   "metadata": {},
   "source": [
    "# Classes and objects\n",
    "\n",
    "[http://docs.scala-lang.org/tutorials/tour/classes](http://docs.scala-lang.org/tutorials/tour/classes)\n",
    "\n",
    "A simple class definition in Scala:"
   ]
  },
  {
   "cell_type": "code",
   "execution_count": null,
   "metadata": {
    "collapsed": false
   },
   "outputs": [],
   "source": [
    "import java.util.Calendar // importing a Java class\n",
    "\n",
    "// A utility function to use in the class definition\n",
    "def currentYear() = Calendar.getInstance.get(Calendar.YEAR)\n",
    "\n",
    "class Person(name: String, birthYear: Int) {           // class name and default-constructor\n",
    "    \n",
    "    def this(name: String) = this(name, currentYear()) // alternative constructor\n",
    "    \n",
    "    def age(): Integer = {\n",
    "        currentYear() - birthYear\n",
    "    }\n",
    "    \n",
    "    def canVote(): Boolean = this.age() >= 18          // `this` keyword, like in Java\n",
    "    \n",
    "    override def toString(): String = s\"$name, $age\"   // override Object#toSTring\n",
    "}"
   ]
  },
  {
   "cell_type": "markdown",
   "metadata": {},
   "source": [
    "Remarks:\n",
    "* We start by importing a Java class. Scala interoperates very well with Java.\n",
    "* Like in java, the keyword `class` is used to define a new class.\n",
    "* After the class name there is an argument list. These are the arguments to the default constructor for the class. The variables `name` and `birthYear` are available throughout the class definition.\n",
    "* Alternative constructors are declared by defining a method named `this`. The first statement in an alternative constructor must call the default constructor.\n",
    "* Like in Java, the keyword `this` is used to refer to the current object inside a method body.\n",
    "* `override` is a keyword (instead of ann annotation) in Scala. The compiler will complain if you unintentionally override a method without using this keyword.\n",
    "* My implementation of `toString` uses [string interpolation](http://docs.scala-lang.org/overviews/core/string-interpolation.html)\n",
    "\n",
    "New instances of classes are created by using the `new` keyword."
   ]
  },
  {
   "cell_type": "code",
   "execution_count": null,
   "metadata": {
    "collapsed": false
   },
   "outputs": [],
   "source": [
    "val alice = new Person(\"Alice\", 1971)\n",
    "val bob = new Person(\"Bob\", 1985)\n",
    "val carol = new Person(\"Carol\")"
   ]
  },
  {
   "cell_type": "code",
   "execution_count": null,
   "metadata": {
    "collapsed": false
   },
   "outputs": [],
   "source": [
    "alice.age()\n",
    "bob.toString()\n",
    "carol.canVote()"
   ]
  },
  {
   "cell_type": "markdown",
   "metadata": {},
   "source": [
    "In addition to defining general classes with the `class` keyword, Scala defines the `object` keyword for creating [singleton objects](http://docs.scala-lang.org/tutorials/tour/singleton-objects.html)."
   ]
  },
  {
   "cell_type": "code",
   "execution_count": null,
   "metadata": {
    "collapsed": false
   },
   "outputs": [],
   "source": [
    "class Widget(color: String) {\n",
    "}\n",
    "\n",
    "object Factory {\n",
    "    def makeWidget(color: String): Widget = {\n",
    "        println(\"clank clank\")\n",
    "        new Widget(color)\n",
    "    }\n",
    "}"
   ]
  },
  {
   "cell_type": "code",
   "execution_count": null,
   "metadata": {
    "collapsed": false
   },
   "outputs": [],
   "source": [
    "val widget = Factory.makeWidget(\"blue\")"
   ]
  },
  {
   "cell_type": "markdown",
   "metadata": {},
   "source": [
    "## Companion objects\n",
    "\n",
    "Scala does not have a `static` keyword. In situations where you would define a static method in Java, it is typical to define a singleton object with the same name as your class. The singleton is referred to as the \"companion object\" for the class. For example, if we want to define additional constructors for `Person` you might add them as factory methods to a companion object."
   ]
  },
  {
   "cell_type": "code",
   "execution_count": null,
   "metadata": {
    "collapsed": false
   },
   "outputs": [],
   "source": [
    "object Person {\n",
    "    // Construct a person from a delimited string\n",
    "    def fromDelimitedString(string: String, delimiter: String = \",\"): Person = {\n",
    "        val fields = string.split(delimiter)\n",
    "        val name = fields(0)\n",
    "        val birthYear = fields(1).toInt\n",
    "        new Person(name, birthYear)\n",
    "    }\n",
    "}"
   ]
  },
  {
   "cell_type": "code",
   "execution_count": null,
   "metadata": {
    "collapsed": false
   },
   "outputs": [],
   "source": [
    "val david = Person.fromDelimitedString(\"David,1999\")"
   ]
  },
  {
   "cell_type": "markdown",
   "metadata": {},
   "source": [
    "## Optional parentheses for methods with no arguments\n",
    "\n",
    "If a method doesn't take any arguments, you can optionally declare it without parentheses. Methods defined this way must be invoked without parenthesis."
   ]
  },
  {
   "cell_type": "code",
   "execution_count": null,
   "metadata": {
    "collapsed": false
   },
   "outputs": [],
   "source": [
    "object Factory {\n",
    "    val POLLUTION_PER_WIDGET = 9\n",
    "    var numberOfWidgetsMade = 0\n",
    "    \n",
    "    def makeWidget(color: String): Widget = {\n",
    "        println(\"clank clank\")\n",
    "        numberOfWidgetsMade += 1\n",
    "        new Widget(color)\n",
    "    }\n",
    "    \n",
    "    def totalPollution = numberOfWidgetsMade * POLLUTION_PER_WIDGET\n",
    "}"
   ]
  },
  {
   "cell_type": "code",
   "execution_count": null,
   "metadata": {
    "collapsed": false
   },
   "outputs": [],
   "source": [
    "Factory.makeWidget(\"puce\")\n",
    "Factory.makeWidget(\"vermillion\")\n",
    "Factory.totalPollution"
   ]
  },
  {
   "cell_type": "markdown",
   "metadata": {},
   "source": [
    "Calling `totalPollution` with parentheses will raise an exception."
   ]
  },
  {
   "cell_type": "code",
   "execution_count": null,
   "metadata": {
    "collapsed": false
   },
   "outputs": [],
   "source": [
    "Factory.totalPollution()"
   ]
  },
  {
   "cell_type": "markdown",
   "metadata": {},
   "source": [
    "## Getters and setters\n",
    "\n",
    "By default, the arguments to the default constructor (i.e., the parameters list that follows the class name) are not accessible outside the class definition. Declaring arguments with `val` and `var` keywords will create getters and setters for them.\n",
    "\n",
    "Also note that for classes that don't define any methods or fields outside of the default constructor, curly braces are not required."
   ]
  },
  {
   "cell_type": "code",
   "execution_count": null,
   "metadata": {
    "collapsed": false
   },
   "outputs": [],
   "source": [
    "class Widget(val color: String, var size: Int)"
   ]
  },
  {
   "cell_type": "code",
   "execution_count": null,
   "metadata": {
    "collapsed": false
   },
   "outputs": [],
   "source": [
    "val w = new Widget(\"blue\", 10)\n",
    "w.color\n",
    "w.size = 11\n",
    "w.size"
   ]
  },
  {
   "cell_type": "markdown",
   "metadata": {},
   "source": [
    "There is also a special syntax to create getters and setters that look like property access and assignment. The syntax builds on the \"no parentheses\" syntax above."
   ]
  },
  {
   "cell_type": "code",
   "execution_count": null,
   "metadata": {
    "collapsed": false
   },
   "outputs": [],
   "source": [
    "class Sprocket(var widthInCentimeters: Int) {\n",
    "    def widthInMeters = widthInCentimeters / 100.0  // getter\n",
    "    \n",
    "    def widthInMeters_=(meters: Double) = {         // setter\n",
    "        widthInCentimeters = (meters * 100).toInt\n",
    "    }\n",
    "}"
   ]
  },
  {
   "cell_type": "code",
   "execution_count": null,
   "metadata": {
    "collapsed": false
   },
   "outputs": [],
   "source": [
    "val sprocket = new Sprocket(100)\n",
    "sprocket.widthInMeters = 0.89\n",
    "sprocket.widthInCentimeters"
   ]
  },
  {
   "cell_type": "markdown",
   "metadata": {},
   "source": [
    "## The `apply` method\n",
    "\n",
    "If your class defines a method named `apply`, then instances of the class can be treated like functions."
   ]
  },
  {
   "cell_type": "code",
   "execution_count": null,
   "metadata": {
    "collapsed": false
   },
   "outputs": [],
   "source": [
    "class Adder(n: Int) {\n",
    "    def apply(x: Int) = x + n\n",
    "}"
   ]
  },
  {
   "cell_type": "code",
   "execution_count": null,
   "metadata": {
    "collapsed": false,
    "scrolled": false
   },
   "outputs": [],
   "source": [
    "val add7 = new Adder(7)\n",
    "\n",
    "// function syntax delegates to the `apply` method\n",
    "add7(2)\n",
    "add7(11)"
   ]
  },
  {
   "cell_type": "markdown",
   "metadata": {},
   "source": [
    "We saw an example of this when we were working with Scala's collection library. Scala collections generally have a companion object that implements the `apply` method to be a factory method for the class. This is how `List(1, 2, 3)` constructs a new `List` instance even though we didn't use the `new` keyword."
   ]
  },
  {
   "cell_type": "code",
   "execution_count": null,
   "metadata": {
    "collapsed": false
   },
   "outputs": [],
   "source": [
    "class Container[T](val stuff: List[T])    // generic class with type parameter T\n",
    "\n",
    "\n",
    "object Container {\n",
    "    def apply[T](args: T*) = {\n",
    "        new Container[T](args.toList)\n",
    "    }\n",
    "}\n",
    "\n",
    "// Construct a new Container using the `apply` method in the companion object\n",
    "val container = Container(1, 2, 3)\n",
    "container.stuff"
   ]
  },
  {
   "cell_type": "markdown",
   "metadata": {},
   "source": [
    "## Case classes\n",
    "\n",
    "Scala combines several of these features in a concept called case classes. `case` is a Scala keyword that lets you define classes that behave like [values](https://en.wikipedia.org/wiki/Value_object), meaning that two instances of the class should be treated the same if their corresponding fields are all equal. When you define a case class, Scala provides the following functionality:\n",
    "\n",
    "* Getters are defined for the default argument. By default they are final, but you can change this by supplying the `var` keyword.\n",
    "* `==`, `hashCode`, and `toString` are implemented. Two instances of the class are equal if their corresponding fields are equal.\n",
    "* The class name can be used as a constructor for the class without the `new` keyword.\n",
    "* The class name can be used for pattern matching in case statements.\n",
    "\n",
    "We'll come back to the last point when we cover `match` and `case` in another notebook. Let's look at an example."
   ]
  },
  {
   "cell_type": "code",
   "execution_count": null,
   "metadata": {
    "collapsed": true
   },
   "outputs": [],
   "source": [
    "case class Pair[T1, T2](x: T1, y: T2)"
   ]
  },
  {
   "cell_type": "code",
   "execution_count": null,
   "metadata": {
    "collapsed": false
   },
   "outputs": [],
   "source": [
    "val p1 = Pair(1.0, 2.0) // Using the class name as a constructor\n",
    "val p2 = Pair(1.0, 2.0)\n",
    "val p3 = Pair(3.0, 4.0)\n",
    "\n",
    "p1 == p2                // equality determined by instance fields\n",
    "p1 == p3\n",
    "\n",
    "p1.hashCode             // hashCode is implemented\n",
    "p2.hashCode\n",
    "p3.hashCode"
   ]
  },
  {
   "cell_type": "code",
   "execution_count": null,
   "metadata": {
    "collapsed": false
   },
   "outputs": [],
   "source": [
    "p1.x = 11 // compilation error, x is final"
   ]
  },
  {
   "cell_type": "markdown",
   "metadata": {},
   "source": [
    "Case classes are a great way to eliminate boilerplate when defining classes whose purpose is to act as containers for their fields. You can add methods to a case class just like a regular class."
   ]
  },
  {
   "cell_type": "code",
   "execution_count": null,
   "metadata": {
    "collapsed": false
   },
   "outputs": [],
   "source": [
    "case class ComplexNumber(re: Double, im: Double) {\n",
    "    def modulus = Math.sqrt(Math.pow(re, 2) + Math.pow(im, 2))\n",
    "}"
   ]
  },
  {
   "cell_type": "code",
   "execution_count": null,
   "metadata": {
    "collapsed": false
   },
   "outputs": [],
   "source": [
    "val z = ComplexNumber(1, 1)\n",
    "z.modulus"
   ]
  },
  {
   "cell_type": "markdown",
   "metadata": {},
   "source": [
    "## Inheritance and traits"
   ]
  }
 ],
 "metadata": {
  "kernelspec": {
   "display_name": "Scala 2.11",
   "language": "scala211",
   "name": "scala211"
  },
  "language_info": {
   "codemirror_mode": "text/x-scala",
   "file_extension": ".scala",
   "mimetype": "text/x-scala",
   "name": "scala211",
   "pygments_lexer": "scala",
   "version": "2.11.6"
  }
 },
 "nbformat": 4,
 "nbformat_minor": 0
}
